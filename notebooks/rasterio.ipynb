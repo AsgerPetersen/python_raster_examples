{
 "metadata": {
  "name": "",
  "signature": "sha256:00ef0ce6f370b37f94d9dbd557f2086e62c881b004c21a826f8ec3e5d6e199d1"
 },
 "nbformat": 3,
 "nbformat_minor": 0,
 "worksheets": [
  {
   "cells": [
    {
     "cell_type": "markdown",
     "metadata": {},
     "source": [
      "rasterio\n",
      "===========\n",
      "Python modul prim\u00e6rt til at l\u00e6se og skrive rastere, men har ogs\u00e5 enkelte metoder til processering. Modulet er t\u00e6nkt som en mere pythonagtig wrapper til GDAL end GDALs egne python bingings.\n",
      "https://github.com/mapbox/rasterio"
     ]
    },
    {
     "cell_type": "markdown",
     "metadata": {},
     "source": [
      "Import"
     ]
    },
    {
     "cell_type": "code",
     "collapsed": false,
     "input": [
      "import rasterio"
     ],
     "language": "python",
     "metadata": {},
     "outputs": [],
     "prompt_number": 80
    },
    {
     "cell_type": "markdown",
     "metadata": {},
     "source": [
      "L\u00e6se data\n",
      "-------------\n",
      "\u00c5bn en rasterfil"
     ]
    },
    {
     "cell_type": "code",
     "collapsed": false,
     "input": [
      "src = rasterio.open('../data/dsm_1km_6191_723.tif')"
     ],
     "language": "python",
     "metadata": {},
     "outputs": [],
     "prompt_number": 81
    },
    {
     "cell_type": "markdown",
     "metadata": {},
     "source": [
      "P\u00e5 'src' ligger nu en lang r\u00e6kke metoder og egenskaber (tab i notebook for autocomplete)"
     ]
    },
    {
     "cell_type": "code",
     "collapsed": false,
     "input": [
      "print src.name\n",
      "print src.width, src.height\n",
      "print src.driver\n",
      "print src.bounds\n",
      "print src.crs\n",
      "print src.affine"
     ],
     "language": "python",
     "metadata": {},
     "outputs": [
      {
       "output_type": "stream",
       "stream": "stdout",
       "text": [
        "../data/dsm_1km_6191_723.tif\n",
        "2500 2500\n",
        "GTiff\n",
        "BoundingBox(left=723000.0, bottom=6191000.0, right=724000.0, top=6192000.0)\n",
        "{'init': u'epsg:25832'}\n",
        "| 0.40, 0.00, 723000.00|\n",
        "| 0.00,-0.40, 6192000.00|\n",
        "| 0.00, 0.00, 1.00|\n"
       ]
      }
     ],
     "prompt_number": 82
    },
    {
     "cell_type": "code",
     "collapsed": false,
     "input": [
      "src.meta"
     ],
     "language": "python",
     "metadata": {},
     "outputs": [
      {
       "metadata": {},
       "output_type": "pyout",
       "prompt_number": 83,
       "text": [
        "{'affine': Affine(0.4, 0.0, 723000.0,\n",
        "       0.0, -0.4, 6192000.0),\n",
        " 'count': 1,\n",
        " 'crs': {'init': u'epsg:25832'},\n",
        " 'driver': u'GTiff',\n",
        " 'dtype': 'float32',\n",
        " 'height': 2500,\n",
        " 'nodata': -9999.0,\n",
        " 'transform': (723000.0, 0.4, 0.0, 6192000.0, 0.0, -0.4),\n",
        " 'width': 2500}"
       ]
      }
     ],
     "prompt_number": 83
    },
    {
     "cell_type": "markdown",
     "metadata": {},
     "source": [
      "Beregn koordinater til en pixel"
     ]
    },
    {
     "cell_type": "code",
     "collapsed": false,
     "input": [
      "col, row = 0, 0\n",
      "pix = (col, row)\n",
      "src.affine * pix"
     ],
     "language": "python",
     "metadata": {},
     "outputs": [
      {
       "metadata": {},
       "output_type": "pyout",
       "prompt_number": 84,
       "text": [
        "(723000.0, 6192000.0)"
       ]
      }
     ],
     "prompt_number": 84
    },
    {
     "cell_type": "markdown",
     "metadata": {},
     "source": [
      "Beregn pixel for en koordinat"
     ]
    },
    {
     "cell_type": "code",
     "collapsed": false,
     "input": [
      "src.index( 723100, 6192000)"
     ],
     "language": "python",
     "metadata": {},
     "outputs": [
      {
       "metadata": {},
       "output_type": "pyout",
       "prompt_number": 85,
       "text": [
        "(0, 250)"
       ]
      }
     ],
     "prompt_number": 85
    },
    {
     "cell_type": "markdown",
     "metadata": {},
     "source": [
      "L\u00e6s b\u00e5nd 1 ud i et numpy array"
     ]
    },
    {
     "cell_type": "code",
     "collapsed": false,
     "input": [
      "band1 = src.read_band(1)\n",
      "band1"
     ],
     "language": "python",
     "metadata": {},
     "outputs": [
      {
       "metadata": {},
       "output_type": "pyout",
       "prompt_number": 86,
       "text": [
        "masked_array(data =\n",
        " [[ 53.23392868  58.93623352  55.55537033 ...,  -0.11298653  -0.11807872\n",
        "   -0.10753392]\n",
        " [ 59.03065109  58.21459579  50.11519241 ...,  -0.11098876  -0.11301339\n",
        "   -0.11810557]\n",
        " [ 54.54904938  41.70999527  58.82728195 ...,  -0.11397466  -0.11412822\n",
        "   -0.11428178]\n",
        " ..., \n",
        " [ 48.59727097  48.65932083  48.13750076 ...,  10.9962225   10.97046185\n",
        "   10.9835062 ]\n",
        " [ 49.0990448   49.18589401  48.96373749 ...,  11.00720787  10.97387218\n",
        "   10.99379158]\n",
        " [ 49.78300858  48.63833237  49.24624634 ...,  10.99733353  10.98378849\n",
        "   10.98448277]],\n",
        "             mask =\n",
        " False,\n",
        "       fill_value = -9999.0)"
       ]
      }
     ],
     "prompt_number": 86
    },
    {
     "cell_type": "markdown",
     "metadata": {},
     "source": [
      "rasterio g\u00e6tter selv p\u00e5, om det er relevant med et masked array. Dette kan overstyres"
     ]
    },
    {
     "cell_type": "code",
     "collapsed": false,
     "input": [
      "src.read_band(1, masked = False)"
     ],
     "language": "python",
     "metadata": {},
     "outputs": [
      {
       "metadata": {},
       "output_type": "pyout",
       "prompt_number": 87,
       "text": [
        "array([[ 53.23392868,  58.93623352,  55.55537033, ...,  -0.11298653,\n",
        "         -0.11807872,  -0.10753392],\n",
        "       [ 59.03065109,  58.21459579,  50.11519241, ...,  -0.11098876,\n",
        "         -0.11301339,  -0.11810557],\n",
        "       [ 54.54904938,  41.70999527,  58.82728195, ...,  -0.11397466,\n",
        "         -0.11412822,  -0.11428178],\n",
        "       ..., \n",
        "       [ 48.59727097,  48.65932083,  48.13750076, ...,  10.9962225 ,\n",
        "         10.97046185,  10.9835062 ],\n",
        "       [ 49.0990448 ,  49.18589401,  48.96373749, ...,  11.00720787,\n",
        "         10.97387218,  10.99379158],\n",
        "       [ 49.78300858,  48.63833237,  49.24624634, ...,  10.99733353,\n",
        "         10.98378849,  10.98448277]], dtype=float32)"
       ]
      }
     ],
     "prompt_number": 87
    },
    {
     "cell_type": "markdown",
     "metadata": {},
     "source": [
      "L\u00e6s et udsnit af b\u00e5nd 1"
     ]
    },
    {
     "cell_type": "code",
     "collapsed": false,
     "input": [
      "fromrow, torow = 250, 252\n",
      "fromcol, tocol = 100, 103\n",
      "\n",
      "window = ( (fromrow,torow), (fromcol, tocol))\n",
      "\n",
      "data = src.read_band(1, window = window )\n",
      "data"
     ],
     "language": "python",
     "metadata": {},
     "outputs": [
      {
       "metadata": {},
       "output_type": "pyout",
       "prompt_number": 88,
       "text": [
        "masked_array(data =\n",
        " [[ 34.379673    31.23414421  31.23551178]\n",
        " [ 39.65379333  35.90067291  31.67787743]],\n",
        "             mask =\n",
        " False,\n",
        "       fill_value = -9999.0)"
       ]
      }
     ],
     "prompt_number": 88
    },
    {
     "cell_type": "markdown",
     "metadata": {},
     "source": [
      "###Blokke"
     ]
    },
    {
     "cell_type": "markdown",
     "metadata": {},
     "source": [
      "Loop over alle blokke"
     ]
    },
    {
     "cell_type": "code",
     "collapsed": false,
     "input": [
      "for block_rowcol, window in src.block_windows(1):\n",
      "    print(block_rowcol, window)"
     ],
     "language": "python",
     "metadata": {},
     "outputs": []
    },
    {
     "cell_type": "raw",
     "metadata": {},
     "source": [
      "Processer data i blokke"
     ]
    },
    {
     "cell_type": "code",
     "collapsed": false,
     "input": [
      "total = 0\n",
      "for block_rowcol, window in src.block_windows(1):\n",
      "    data_window = src.read_band(1, window = window)\n",
      "    total += data_window.sum()\n",
      "    print total\n",
      "print 'Total total: ', total"
     ],
     "language": "python",
     "metadata": {},
     "outputs": []
    },
    {
     "cell_type": "markdown",
     "metadata": {},
     "source": [
      "Skrive data\n",
      "---------------"
     ]
    },
    {
     "cell_type": "code",
     "collapsed": false,
     "input": [
      "dst = rasterio.open(\n",
      "        '../data/tmp.tif', 'w',\n",
      "        driver='GTiff', width=src.width, height=src.height, count=1,\n",
      "        dtype=src.dtypes[0])\n",
      "dst.write_band(1, src.read_band(1))\n",
      "dst.close()"
     ],
     "language": "python",
     "metadata": {},
     "outputs": [],
     "prompt_number": 89
    },
    {
     "cell_type": "markdown",
     "metadata": {},
     "source": [
      "L\u00e6se, processere og skrive data i blokke"
     ]
    },
    {
     "cell_type": "code",
     "collapsed": false,
     "input": [],
     "language": "python",
     "metadata": {},
     "outputs": []
    }
   ],
   "metadata": {}
  }
 ]
}